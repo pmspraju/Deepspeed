{
 "cells": [
  {
   "cell_type": "code",
   "execution_count": null,
   "id": "613473db",
   "metadata": {},
   "outputs": [
    {
     "name": "stdout",
     "output_type": "stream",
     "text": [
      "Role ARN: arn:aws:iam::673671551738:role/service-role/SageMaker-smaker_cli\n",
      "{'Endpoints': [], 'ResponseMetadata': {'RequestId': '9ea232d8-775d-4fae-b013-13643e54e6c8', 'HTTPStatusCode': 200, 'HTTPHeaders': {'x-amzn-requestid': '9ea232d8-775d-4fae-b013-13643e54e6c8', 'content-type': 'application/x-amz-json-1.1', 'content-length': '16', 'date': 'Sun, 01 Jun 2025 06:54:39 GMT'}, 'RetryAttempts': 0}}\n"
     ]
    }
   ],
   "source": [
    "import os\n",
    "import boto3\n",
    "\n",
    "# set the environment variables\n",
    "os.environ['AWS_PROFILE'] = \"default\"\n",
    "\n",
    "# Check boto session\n",
    "boto_sess = boto3.Session()\n",
    "credentials = boto_sess.get_credentials()\n",
    "#print(\"Access Key:\", credentials.access_key)\n",
    "#print(\"Secret Key:\", credentials.secret_key)\n",
    "\n",
    "# Create the clients \n",
    "sm_client = boto3.client(\"sagemaker\")\n",
    "iam_client = boto3.client(\"iam\")\n",
    "\n",
    "# Replace with your actual role name\n",
    "role_name = \"SageMaker-smaker_cli\"\n",
    "\n",
    "# Get role details\n",
    "response = iam_client.get_role(RoleName=role_name)\n",
    "\n",
    "# Extract the role ARN\n",
    "role = response[\"Role\"][\"Arn\"]\n",
    "print(\"Role ARN:\", role)\n",
    "\n",
    "\n",
    "# List SageMaker endpoints to verify connection\n",
    "response = sm_client.list_endpoints()\n",
    "print(response)"
   ]
  },
  {
   "cell_type": "code",
   "execution_count": 19,
   "id": "cb561b45",
   "metadata": {},
   "outputs": [
    {
     "name": "stdout",
     "output_type": "stream",
     "text": [
      "sagemaker role arn: arn:aws:iam::673671551738:role/service-role/SageMaker-smaker_cli\n",
      "sagemaker bucket: sagemaker-us-east-1-673671551738\n",
      "sagemaker session region: us-east-1\n"
     ]
    }
   ],
   "source": [
    "# Use Sagemaker SDK to create a session\n",
    "import sagemaker\n",
    "\n",
    "sess = sagemaker.Session()\n",
    "region = sess._region_name\n",
    "\n",
    "print(f\"sagemaker role arn: {role}\")\n",
    "print(f\"sagemaker bucket: {sess.default_bucket()}\")\n",
    "print(f\"sagemaker session region: {sess.boto_region_name}\")"
   ]
  },
  {
   "cell_type": "code",
   "execution_count": 20,
   "id": "3025049c",
   "metadata": {},
   "outputs": [
    {
     "name": "stdout",
     "output_type": "stream",
     "text": [
      "sagemaker-us-east-1-673671551738\n",
      "Sagemaker default bucket : s3://sagemaker-us-east-1-673671551738/djl-serving/\n",
      "Sagemaker custom bucket : s3://deepseek-math-repo/djl-serving/\n"
     ]
    }
   ],
   "source": [
    "# Get the sagemaker default s3 bucket we are going to use.\n",
    "bucket = sess.default_bucket() \n",
    "print(bucket)\n",
    "s3_location = f\"s3://{bucket}/djl-serving/\"\n",
    "print(f\"Sagemaker default bucket : {s3_location}\")\n",
    "\n",
    "# Instead of default bucket, we use our own custom bucket\n",
    "bucket = \"deepseek-math-repo\"\n",
    "s3_location = f\"s3://{bucket}/djl-serving/\"\n",
    "print(f\"Sagemaker custom bucket : {s3_location}\")"
   ]
  },
  {
   "cell_type": "code",
   "execution_count": 21,
   "id": "195242ae",
   "metadata": {},
   "outputs": [
    {
     "name": "stdout",
     "output_type": "stream",
     "text": [
      "763104351884.dkr.ecr.us-east-1.amazonaws.com/djl-inference:0.21.0-deepspeed0.8.3-cu117\n"
     ]
    }
   ],
   "source": [
    "# Get the uri of the DJL-Deepspeed image\n",
    "from sagemaker import image_uris\n",
    "\n",
    "img_uri = image_uris.retrieve(framework=\"djl-deepspeed\", region=region, version=\"0.21.0\")\n",
    "print(img_uri)"
   ]
  }
 ],
 "metadata": {
  "kernelspec": {
   "display_name": "pytorch_env",
   "language": "python",
   "name": "python3"
  },
  "language_info": {
   "codemirror_mode": {
    "name": "ipython",
    "version": 3
   },
   "file_extension": ".py",
   "mimetype": "text/x-python",
   "name": "python",
   "nbconvert_exporter": "python",
   "pygments_lexer": "ipython3",
   "version": "3.10.12"
  }
 },
 "nbformat": 4,
 "nbformat_minor": 5
}
